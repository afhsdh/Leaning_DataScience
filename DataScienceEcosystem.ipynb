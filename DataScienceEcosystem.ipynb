{
 "metadata": {
  "language_info": {
   "codemirror_mode": {
    "name": "python",
    "version": 3
   },
   "file_extension": ".py",
   "mimetype": "text/x-python",
   "name": "python",
   "nbconvert_exporter": "python",
   "pygments_lexer": "ipython3",
   "version": "3.8"
  },
  "kernelspec": {
   "name": "python",
   "display_name": "Python (Pyodide)",
   "language": "python"
  }
 },
 "nbformat_minor": 4,
 "nbformat": 4,
 "cells": [
  {
   "cell_type": "markdown",
   "source": [
    "# Data Science Tools and Ecosystem"
   ],
   "metadata": {
    "tags": []
   }
  },
  {
   "cell_type": "markdown",
   "source": [
    "In this notebook, Data Science Tools and Ecosystem are summarized."
   ],
   "metadata": {}
  },
  {
   "cell_type": "markdown",
   "source": [
    "**Objectives:**\n",
    "- Create a Jupyter Notebook\n",
    "- Create markdown cell with title of the notebook\n",
    "- Create a markdown cell for an introduction\n",
    "- Create a markdown cell to list data science languages\n",
    "- Create a markdown cell to list data science libraries"
   ],
   "metadata": {}
  },
  {
   "cell_type": "markdown",
   "source": [
    "\n",
    "## Some of the popular languages that Data Scientists use are:\n",
    "1. Python\n",
    "1. R\n",
    "1. SQL\n"
   ],
   "metadata": {}
  },
  {
   "cell_type": "markdown",
   "source": [
    "Some of the commonly used libraries used by Data Scientists include:\n",
    "\n",
    "1. Matplotlib\n",
    "1. NumPy\n",
    "1. Pandas\n",
    "1. SciPy"
   ],
   "metadata": {}
  },
  {
   "cell_type": "markdown",
   "source": [
    "|Data Science Tools|\n",
    "|-------------------|\n",
    "|Jupyter Notebooks|\n",
    "|Jupyter Labs|\n",
    "|RStudios|"
   ],
   "metadata": {}
  },
  {
   "cell_type": "markdown",
   "source": [
    "### Below are a few examples of evaluating arithmetic expressions in Python.\n",
    "``` phthon\n",
    "a = 4\n",
    "b = 2\n",
    "c = 3\n",
    "print('a + b = ', a + b)\n",
    "print('a + b = ', a - b)\n",
    "print('a -b = ', a * b)\n",
    "print('a /  b = ', a / b)\n",
    "print('a ** b = ', a ** c)\n",
    "print('a % c  =', a % c )\n",
    "\n",
    "```"
   ],
   "metadata": {}
  },
  {
   "cell_type": "code",
   "source": [
    "print('This a simple arithmetic expression to multiply then add integers')\n",
    "print('(3*4)+5 =' ,(3*4)+5)"
   ],
   "metadata": {
    "trusted": true
   },
   "execution_count": 8,
   "outputs": [
    {
     "name": "stdout",
     "text": "This a simple arithmetic expression to multiply then add integers\n(3*4)+5 = 17\n",
     "output_type": "stream"
    }
   ]
  },
  {
   "cell_type": "code",
   "source": [
    "#This will convert 200 minutes to hours by diving by 60\n",
    "print( 'This will convert 200 minutes to hours by diving by 60')\n",
    "h = int(200/60)\n",
    "m=(200%60)  # minutes left not asked for\n",
    "print(str(h)+' hours' )"
   ],
   "metadata": {
    "trusted": true
   },
   "execution_count": 11,
   "outputs": [
    {
     "name": "stdout",
     "text": "This will convert 200 minutes to hours by diving by 60\n3 hours\n",
     "output_type": "stream"
    }
   ]
  },
  {
   "cell_type": "markdown",
   "source": [
    "## Author\n",
    "Adrian Harris"
   ],
   "metadata": {}
  }
 ]
}
